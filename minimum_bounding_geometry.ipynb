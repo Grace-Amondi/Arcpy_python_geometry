{
 "cells": [
  {
   "cell_type": "markdown",
   "metadata": {},
   "source": []
  },
  {
   "cell_type": "code",
   "execution_count": 3,
   "metadata": {},
   "outputs": [],
   "source": [
    "# import modules\n",
    "import arcpy\n",
    "import os\n",
    "from arcpy import env"
   ]
  },
  {
   "cell_type": "code",
   "execution_count": 7,
   "metadata": {},
   "outputs": [],
   "source": [
    "env.workspace = r\"C:\\EsriPress\\Python\\Data\\Exercise08\"\n",
    "# outpath =r\"C:\\EsriPress\\Python\\Data\\Exercise08\"\n",
    "fc=\"hawaii.shp\"\n",
    "newfc =r\"\\Results\\hawaii_bound.shp\"\n",
    "cursor = arcpy.SearchCursor(fc, [\"SHAPE@\"])"
   ]
  },
  {
   "cell_type": "code",
   "execution_count": 8,
   "metadata": {},
   "outputs": [],
   "source": [
    "# arcpy.CreateFeatureclass_management(outpath,newfc,\"Polygon\")"
   ]
  },
  {
   "cell_type": "code",
   "execution_count": 13,
   "metadata": {},
   "outputs": [],
   "source": [
    "# create a bounding box to envelope hawaai multipart features\n",
    "bbox = arcpy.MinimumBoundingGeometry_management(fc,newfc,\"ENVELOPE\",\"NONE\")"
   ]
  },
  {
   "cell_type": "code",
   "execution_count": null,
   "metadata": {},
   "outputs": [],
   "source": []
  }
 ],
 "metadata": {
  "kernelspec": {
   "display_name": "Python [conda env:arc1031]",
   "language": "python",
   "name": "conda-env-arc1031-py"
  },
  "language_info": {
   "codemirror_mode": {
    "name": "ipython",
    "version": 2
   },
   "file_extension": ".py",
   "mimetype": "text/x-python",
   "name": "python",
   "nbconvert_exporter": "python",
   "pygments_lexer": "ipython2",
   "version": "2.7.8"
  }
 },
 "nbformat": 4,
 "nbformat_minor": 2
}
