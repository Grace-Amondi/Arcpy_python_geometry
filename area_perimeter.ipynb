{
 "cells": [
  {
   "cell_type": "code",
   "execution_count": 1,
   "metadata": {},
   "outputs": [],
   "source": [
    "# import modules\n",
    "import arcpy\n",
    "from arcpy import env"
   ]
  },
  {
   "cell_type": "code",
   "execution_count": 6,
   "metadata": {},
   "outputs": [],
   "source": [
    "# define workspace and read records\n",
    "env.workspace = \"C:/EsriPress/Python/Data/Exercise08\"\n",
    "fc = \"Hawaii.shp\""
   ]
  },
  {
   "cell_type": "code",
   "execution_count": 58,
   "metadata": {},
   "outputs": [],
   "source": [
    "# create a read-only access\n",
    "cursor = arcpy.da.SearchCursor(fc,[\"OID@\",\"SHAPE@\"])"
   ]
  },
  {
   "cell_type": "code",
   "execution_count": 59,
   "metadata": {},
   "outputs": [
    {
     "name": "stdout",
     "output_type": "stream",
     "text": [
      "Feature 0\n",
      "Part:1 Area is 10486352989.3 and Perimeter is 498725.055412\n",
      "Part:2 Area is 119076863.34 and Perimeter is 56881.0036902\n",
      "Part:3 Area is 364740852.32 and Perimeter is 79591.0682423\n",
      "Part:4 Area is 1907482650.48 and Perimeter is 237012.258925\n",
      "Part:5 Area is 685386630.072 and Perimeter is 161088.601997\n",
      "Part:6 Area is 1031618.91367 and Perimeter is 4352.76487861\n",
      "Part:7 Area is 1256964.693 and Perimeter is 4695.32830717\n",
      "Part:8 Area is 1577775022.29 and Perimeter is 272519.587254\n",
      "Part:9 Area is 196286564.702 and Perimeter is 78651.6154917\n",
      "Part:10 Area is 856335.859597 and Perimeter is 4013.22228832\n",
      "Part:11 Area is 1449442867.51 and Perimeter is 172463.404121\n"
     ]
    }
   ],
   "source": [
    "# loop through each feature and return perimeter and area\n",
    "for row in cursor:\n",
    "    partNum=1\n",
    "    print(\"Feature {0}\".format(row[0]))\n",
    "    for part in row[1]:\n",
    "        poly = arcpy.Polygon(part) #create a polygon feature\n",
    "        print(\"Part:{0} Area is {1} and Perimeter is {2}\".format(partNum,poly.area,poly.length))\n",
    "        partNum+=1"
   ]
  },
  {
   "cell_type": "code",
   "execution_count": 60,
   "metadata": {},
   "outputs": [],
   "source": [
    "del cursor #remove lock"
   ]
  },
  {
   "cell_type": "code",
   "execution_count": null,
   "metadata": {},
   "outputs": [],
   "source": []
  }
 ],
 "metadata": {
  "kernelspec": {
   "display_name": "Python [conda env:arc1031]",
   "language": "python",
   "name": "conda-env-arc1031-py"
  },
  "language_info": {
   "codemirror_mode": {
    "name": "ipython",
    "version": 2
   },
   "file_extension": ".py",
   "mimetype": "text/x-python",
   "name": "python",
   "nbconvert_exporter": "python",
   "pygments_lexer": "ipython2",
   "version": "2.7.8"
  }
 },
 "nbformat": 4,
 "nbformat_minor": 2
}
