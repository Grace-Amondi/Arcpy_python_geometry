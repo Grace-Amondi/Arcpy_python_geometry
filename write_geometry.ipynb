{
 "cells": [
  {
   "cell_type": "code",
   "execution_count": 17,
   "metadata": {},
   "outputs": [],
   "source": [
    "# import modules and site package\n",
    "import arcpy\n",
    "import fileinput\n",
    "import os\n",
    "import string\n",
    "from arcpy import env"
   ]
  },
  {
   "cell_type": "code",
   "execution_count": 18,
   "metadata": {},
   "outputs": [],
   "source": [
    "# define workspace and set env overwrite to true\n",
    "env.workspace = \"C:/EsriPress/Python/Data/Exercise08\"\n",
    "env.overwriteOutput=True"
   ]
  },
  {
   "cell_type": "code",
   "execution_count": 19,
   "metadata": {},
   "outputs": [],
   "source": [
    "# define output path\n",
    "outputPath = \"C:/EsriPress/Python/Data/Exercise08\"\n",
    "newfc = \"Results/newPolyline.shp\""
   ]
  },
  {
   "cell_type": "code",
   "execution_count": 20,
   "metadata": {},
   "outputs": [
    {
     "data": {
      "text/plain": [
       "<Result 'C:\\\\EsriPress\\\\Python\\\\Data\\\\Exercise08\\\\Results\\\\newPolyline.shp'>"
      ]
     },
     "execution_count": 20,
     "metadata": {},
     "output_type": "execute_result"
    }
   ],
   "source": [
    "# create feature class from empty shapefile\n",
    "arcpy.CreateFeatureclass_management(outputPath,newfc,\"Polyline\")"
   ]
  },
  {
   "cell_type": "code",
   "execution_count": 21,
   "metadata": {},
   "outputs": [],
   "source": [
    "# define txt file path\n",
    "infile= r\"C:\\EsriPress\\Python\\Data\\Exercise08\\coordinates.txt\""
   ]
  },
  {
   "cell_type": "code",
   "execution_count": 25,
   "metadata": {},
   "outputs": [],
   "source": [
    "# open for write access a new record for geometry\n",
    "cursor = arcpy.da.InsertCursor(newfc,[\"SHAPE@\"])\n",
    "array = arcpy.Array()\n"
   ]
  },
  {
   "cell_type": "code",
   "execution_count": 26,
   "metadata": {},
   "outputs": [],
   "source": [
    "# loop through text file line by line split by space\n",
    "for line in fileinput.FileInput(infile):\n",
    "    ID, X, Y = string.split(line,\" \")\n",
    "#     create an array instance\n",
    "    array.add(arcpy.Point(X, Y))\n",
    "# insert array record\n",
    "cursor.insertRow([arcpy.Polyline(array)])\n",
    "# close file and remove lock\n",
    "fileinput.close()\n",
    "del cursor\n",
    "    "
   ]
  },
  {
   "cell_type": "code",
   "execution_count": null,
   "metadata": {},
   "outputs": [],
   "source": []
  }
 ],
 "metadata": {
  "kernelspec": {
   "display_name": "Python [conda env:arc1031]",
   "language": "python",
   "name": "conda-env-arc1031-py"
  },
  "language_info": {
   "codemirror_mode": {
    "name": "ipython",
    "version": 2
   },
   "file_extension": ".py",
   "mimetype": "text/x-python",
   "name": "python",
   "nbconvert_exporter": "python",
   "pygments_lexer": "ipython2",
   "version": "2.7.8"
  }
 },
 "nbformat": 4,
 "nbformat_minor": 2
}
