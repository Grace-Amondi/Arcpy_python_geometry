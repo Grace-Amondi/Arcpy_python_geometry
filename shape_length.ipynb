{
 "cells": [
  {
   "cell_type": "code",
   "execution_count": 3,
   "metadata": {},
   "outputs": [],
   "source": [
    "# import arcpy site packages\n",
    "import arcpy\n",
    "from arcpy import env"
   ]
  },
  {
   "cell_type": "code",
   "execution_count": 4,
   "metadata": {},
   "outputs": [],
   "source": [
    "# specify workerspace\n",
    "env.workspace=r\"C:/EsriPress/Python/Data/Exercise08\"\n",
    "fc=\"rivers.shp\""
   ]
  },
  {
   "cell_type": "code",
   "execution_count": 8,
   "metadata": {},
   "outputs": [
    {
     "name": "stdout",
     "output_type": "stream",
     "text": [
      "8780.44037544 Meter\n",
      "16125.7136095 Meter\n",
      "24774.0008901 Meter\n",
      "29352.507797 Meter\n",
      "38730.3884111 Meter\n",
      "53506.8074512 Meter\n",
      "63328.5344719 Meter\n",
      "66124.9536838 Meter\n",
      "73455.0011035 Meter\n",
      "89012.7696841 Meter\n",
      "96099.5836489 Meter\n",
      "114900.326795 Meter\n",
      "126424.20679 Meter\n",
      "142057.838334 Meter\n",
      "150849.621748 Meter\n",
      "162938.679613 Meter\n",
      "172216.837643 Meter\n",
      "180849.779726 Meter\n",
      "207463.283463 Meter\n",
      "214677.926674 Meter\n",
      "223839.559732 Meter\n",
      "236850.215142 Meter\n",
      "241879.546371 Meter\n",
      "247168.881032 Meter\n",
      "249676.08066 Meter\n",
      "256937.409437 Meter\n"
     ]
    }
   ],
   "source": [
    "# loop through rivers and calculate length\n",
    "cursor = arcpy.da.SearchCursor(fc, [\"SHAPE@LENGTH\"])\n",
    "length = 0\n",
    "for row in cursor:\n",
    "    length = length + row[0]\n",
    "    units = arcpy.Describe(fc).spatialReference.linearUnitName\n",
    "    print str(length)+\" \"+units\n",
    "del cursor    "
   ]
  },
  {
   "cell_type": "code",
   "execution_count": null,
   "metadata": {},
   "outputs": [],
   "source": []
  }
 ],
 "metadata": {
  "kernelspec": {
   "display_name": "Python [conda env:arc1031]",
   "language": "python",
   "name": "conda-env-arc1031-py"
  },
  "language_info": {
   "codemirror_mode": {
    "name": "ipython",
    "version": 2
   },
   "file_extension": ".py",
   "mimetype": "text/x-python",
   "name": "python",
   "nbconvert_exporter": "python",
   "pygments_lexer": "ipython2",
   "version": "2.7.8"
  }
 },
 "nbformat": 4,
 "nbformat_minor": 2
}
