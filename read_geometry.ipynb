{
 "cells": [
  {
   "cell_type": "code",
   "execution_count": 1,
   "metadata": {},
   "outputs": [],
   "source": [
    "import arcpy\n",
    "from arcpy import env"
   ]
  },
  {
   "cell_type": "code",
   "execution_count": 8,
   "metadata": {},
   "outputs": [],
   "source": [
    "env.workspace = r\"C:/EsriPress/Python/Data/Exercise08\"\n",
    "fc = \"dams.shp\"\n",
    "cursor = arcpy.da.SearchCursor(fc,[\"SHAPE@XY\"])"
   ]
  },
  {
   "cell_type": "code",
   "execution_count": 9,
   "metadata": {},
   "outputs": [
    {
     "name": "stdout",
     "output_type": "stream",
     "text": [
      "852911.336075, 2220578.93538\n",
      "792026.89767, 2310863.76822\n",
      "784830.427658, 2315171.53882\n",
      "741687.458878, 2321601.76549\n",
      "702480.327773, 2340545.89511\n",
      "623387.057118, 2361903.92116\n",
      "623695.640648, 2366334.33243\n",
      "605189.090984, 2369713.27767\n",
      "607428.403551, 2371200.1893\n",
      "598227.039352, 2377783.5839\n",
      "605311.561749, 2377828.1123\n",
      "600279.281455, 2381117.02117\n",
      "600424.5035, 2385911.05609\n",
      "448531.157196, 2422948.79249\n",
      "448699.851908, 2423689.86222\n",
      "444571.703829, 2424622.48102\n",
      "449058.132475, 2425902.48822\n",
      "445617.791672, 2428493.00554\n",
      "438054.0539, 2429993.01392\n",
      "458892.662963, 2435094.24857\n",
      "429678.478408, 2443134.25808\n",
      "462354.502917, 2445966.35229\n",
      "461503.007988, 2447816.94401\n"
     ]
    }
   ],
   "source": [
    "for row in cursor:\n",
    "    x,y = row[0]\n",
    "    print(\"{0}, {1}\".format(x,y))"
   ]
  },
  {
   "cell_type": "code",
   "execution_count": 10,
   "metadata": {},
   "outputs": [],
   "source": [
    "del cursor"
   ]
  },
  {
   "cell_type": "code",
   "execution_count": null,
   "metadata": {},
   "outputs": [],
   "source": []
  }
 ],
 "metadata": {
  "kernelspec": {
   "display_name": "Python [conda env:arc1031]",
   "language": "python",
   "name": "conda-env-arc1031-py"
  },
  "language_info": {
   "codemirror_mode": {
    "name": "ipython",
    "version": 2
   },
   "file_extension": ".py",
   "mimetype": "text/x-python",
   "name": "python",
   "nbconvert_exporter": "python",
   "pygments_lexer": "ipython2",
   "version": "2.7.8"
  }
 },
 "nbformat": 4,
 "nbformat_minor": 2
}
