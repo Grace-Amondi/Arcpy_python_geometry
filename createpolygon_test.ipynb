{
 "cells": [
  {
   "cell_type": "code",
   "execution_count": 32,
   "metadata": {},
   "outputs": [],
   "source": [
    "# import modules\n",
    "import os\n",
    "import string\n",
    "import fileinput\n",
    "import arcpy \n",
    "from arcpy import env"
   ]
  },
  {
   "cell_type": "code",
   "execution_count": 33,
   "metadata": {},
   "outputs": [],
   "source": [
    "# define workspace and set overwrite to true\n",
    "env.workspace = r\"C:\\EsriPress\\Python\\Data\\Exercise08\"\n",
    "env.overwriteOuput =True"
   ]
  },
  {
   "cell_type": "code",
   "execution_count": 42,
   "metadata": {},
   "outputs": [
    {
     "data": {
      "text/plain": [
       "<Result 'C:\\\\EsriPress\\\\Python\\\\Data\\\\Exercise08\\\\Results\\\\square.shp'>"
      ]
     },
     "execution_count": 42,
     "metadata": {},
     "output_type": "execute_result"
    }
   ],
   "source": [
    "# set path for new shapefile\n",
    "outputPath = r\"C:\\EsriPress\\Python\\Data\\Exercise08\"\n",
    "newfc = r\"\\Results\\square.shp\"\n",
    "arcpy.CreateFeatureclass_management(outputPath, newfc, \"Polygon\")"
   ]
  },
  {
   "cell_type": "code",
   "execution_count": 43,
   "metadata": {},
   "outputs": [],
   "source": [
    "# set path for text file\n",
    "infile=r\"C:\\EsriPress\\Python\\Data\\Exercise08\\test.txt\"\n",
    "cursor = arcpy.da.InsertCursor(newfc,[\"SHAPE@\"])\n",
    "# create array instance\n",
    "array = arcpy.Array()"
   ]
  },
  {
   "cell_type": "code",
   "execution_count": 44,
   "metadata": {},
   "outputs": [],
   "source": [
    "# loop through text file line by line split by space\n",
    "for line in fileinput.input(infile):\n",
    "    ID, X, Y =string.split(line,\" \")\n",
    "    array.add(arcpy.Point(X, Y))\n",
    "# insert array record\n",
    "cursor.insertRow([arcpy.Polygon(array)])\n",
    "# close file and remove lock\n",
    "fileinput.close()\n",
    "del cursor"
   ]
  },
  {
   "cell_type": "code",
   "execution_count": null,
   "metadata": {},
   "outputs": [],
   "source": []
  }
 ],
 "metadata": {
  "kernelspec": {
   "display_name": "Python [conda env:arc1031]",
   "language": "python",
   "name": "conda-env-arc1031-py"
  },
  "language_info": {
   "codemirror_mode": {
    "name": "ipython",
    "version": 2
   },
   "file_extension": ".py",
   "mimetype": "text/x-python",
   "name": "python",
   "nbconvert_exporter": "python",
   "pygments_lexer": "ipython2",
   "version": "2.7.8"
  }
 },
 "nbformat": 4,
 "nbformat_minor": 2
}
